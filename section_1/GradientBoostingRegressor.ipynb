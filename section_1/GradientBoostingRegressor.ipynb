{
 "cells": [
  {
   "cell_type": "code",
   "execution_count": 33,
   "metadata": {},
   "outputs": [],
   "source": [
    "import pandas as pd\n",
    "import numpy as np\n",
    "from sklearn.model_selection import train_test_split\n",
    "from sklearn.linear_model import LinearRegression\n",
    "from sklearn.ensemble import GradientBoostingRegressor\n",
    "from sklearn.linear_model import Ridge\n",
    "from sklearn.pipeline import Pipeline\n",
    "from sklearn.model_selection import learning_curve\n",
    "import matplotlib.pyplot as plt\n",
    "from sklearn.model_selection import ShuffleSplit\n",
    "from sklearn.model_selection import cross_val_score\n",
    "from sklearn.model_selection import GridSearchCV\n",
    "from sklearn.metrics import mean_squared_error, r2_score"
   ]
  },
  {
   "cell_type": "code",
   "execution_count": 34,
   "metadata": {},
   "outputs": [],
   "source": [
    "data = pd.read_csv('renfe.csv')\n",
    "\n",
    "for i in ['insert_date','start_date','end_date']:\n",
    "    data[i] = pd.to_datetime(data[i])\n",
    "\n",
    "\n",
    "data['price'] = data['price'].fillna(data['price'].mean())\n",
    "data = data.dropna()\n",
    "\n",
    "\n",
    "data['start_end_hour'] = data['end_date'] - data['start_date']\n",
    "data['start_end_hour'] = data['start_end_hour']/np.timedelta64(1,'h')\n",
    "data['insert_month'] = data['insert_date'].dt.month\n",
    "data['insert_day'] = data['insert_date'].dt.day\n",
    "data['insert_hour'] = data['insert_date'].dt.hour\n",
    "data['insert_min'] = data['insert_date'].dt.minute\n",
    "data['insert_sec'] = data['insert_date'].dt.second\n",
    "\n",
    "data = data.drop(['insert_date','start_date','end_date'],1)\n",
    "\n",
    "one_hot_encoding = pd.get_dummies(data[['origin','destination','train_type','train_class','fare']])\n",
    "data = data.drop(['origin','destination','train_type','train_class','fare'],1)\n",
    "data = pd.concat([one_hot_encoding, data], axis=1)\n",
    "\n",
    "data = data.astype(np.float)\n",
    "\n",
    "X = data.iloc[:, [0,1,2,3,4,5,6,7,8,9,10,11,12,13,14,15,16,17,18,19,20\n",
    "                  ,21,22,23,24,25,26,27,28,29,30,31,32,33,34,35,36,37,38,\n",
    "                  39,40,41,42,43,44,46,47,48,49,50,51]]\n",
    "Y = data.iloc[:, [45]]\n",
    "\n",
    "\n",
    "X_train1, X_test1, y_train1, y_test1 = train_test_split(X.values, Y.values, test_size=.9, random_state=42)\n",
    "X_train, X_test, y_train, y_test = train_test_split(X_train1, y_train1, test_size=.1, random_state=42)"
   ]
  },
  {
   "cell_type": "code",
   "execution_count": 38,
   "metadata": {},
   "outputs": [
    {
     "name": "stderr",
     "output_type": "stream",
     "text": [
      "/anaconda3/lib/python3.7/site-packages/sklearn/ensemble/gradient_boosting.py:1450: DataConversionWarning: A column-vector y was passed when a 1d array was expected. Please change the shape of y to (n_samples, ), for example using ravel().\n",
      "  y = column_or_1d(y, warn=True)\n"
     ]
    },
    {
     "name": "stdout",
     "output_type": "stream",
     "text": [
      "248.60489320449372\n",
      "0.5972291156556392\n",
      "0.5964734993512872\n",
      "0.5972291156556392\n"
     ]
    }
   ],
   "source": [
    "model = GradientBoostingRegressor(n_estimators=10)\n",
    "model.fit(X_train, y_train)\n",
    "y_pred = model.predict(X_test)\n",
    "mse = mean_squared_error(y_test, y_pred)\n",
    "print(mse)\n",
    "R2 = r2_score(y_test, y_pred)\n",
    "print(R2)\n",
    "score_train = model.score(X_train, y_train)\n",
    "print(score_train)\n",
    "score_test = model.score(X_test,y_test)\n",
    "print(score_test)"
   ]
  },
  {
   "cell_type": "code",
   "execution_count": 39,
   "metadata": {},
   "outputs": [],
   "source": [
    "cv=ShuffleSplit(n_splits=10,test_size=0.1,random_state=42)\n",
    "\n",
    "def plot_curve():\n",
    "    # instantiate\n",
    "    model = GradientBoostingRegressor(n_estimators=10)\n",
    "\n",
    "    # fit\n",
    "    model.fit(X_train1, y_train1)\n",
    "    train_sizes, train_scores, test_scores = learning_curve(model, X_train1, y_train1, \n",
    "                                                            n_jobs=-1, cv=cv, \n",
    "                                                            train_sizes=np.linspace(.1, 1.0, 5), verbose=0)\n",
    "\n",
    "    train_scores_mean = np.mean(train_scores, axis=1)\n",
    "    train_scores_std = np.std(train_scores, axis=1)\n",
    "    test_scores_mean = np.mean(test_scores, axis=1)\n",
    "    test_scores_std = np.std(test_scores, axis=1)\n",
    "    fit, ax=plt.subplots()\n",
    "    #plt.figure()\n",
    "    ax.set_title(\"Boosting\")\n",
    "    ax.legend(loc=\"best\")\n",
    "    ax.set_xlabel(\"Training examples\")\n",
    "    ax.set_ylabel(\"Score\")\n",
    "    #ax.gca().invert_yaxis()\n",
    "    \n",
    "    # box-like grid\n",
    "    ax.grid()\n",
    "    \n",
    "    # plot the std deviation as a transparent range at each training set size\n",
    "    ax.fill_between(train_sizes, train_scores_mean - train_scores_std, train_scores_mean + train_scores_std, alpha=0.1, color=\"r\")\n",
    "    ax.fill_between(train_sizes, test_scores_mean - test_scores_std, test_scores_mean + test_scores_std, alpha=0.1, color=\"g\")\n",
    "    \n",
    "    # plot the average training and test score lines at each training set size\n",
    "    ax.plot(train_sizes, train_scores_mean, 'o-', color=\"r\", label=\"Training score\")\n",
    "    ax.plot(train_sizes, test_scores_mean, 'o-', color=\"g\", label=\"Cross-validation score\")\n",
    "    \n",
    "    # sizes the window for readability and displays the plot\n",
    "    # shows error from 0 to 1.1\n",
    "    ax.set_ylim(0.5,1)\n",
    "    legend = ax.legend()\n",
    "    plt.show()"
   ]
  },
  {
   "cell_type": "code",
   "execution_count": 40,
   "metadata": {},
   "outputs": [
    {
     "name": "stderr",
     "output_type": "stream",
     "text": [
      "/anaconda3/lib/python3.7/site-packages/sklearn/ensemble/gradient_boosting.py:1450: DataConversionWarning: A column-vector y was passed when a 1d array was expected. Please change the shape of y to (n_samples, ), for example using ravel().\n",
      "  y = column_or_1d(y, warn=True)\n",
      "/anaconda3/lib/python3.7/site-packages/joblib/externals/loky/process_executor.py:706: UserWarning: A worker stopped while some jobs were given to the executor. This can be caused by a too short worker timeout or by a memory leak.\n",
      "  \"timeout or by a memory leak.\", UserWarning\n",
      "WARNING:matplotlib.legend:No handles with labels found to put in legend.\n"
     ]
    },
    {
     "data": {
      "image/png": "[encoded data removed]",
      "text/plain": [
       "<Figure size 432x288 with 1 Axes>"
      ]
     },
     "metadata": {
      "needs_background": "light"
     },
     "output_type": "display_data"
    }
   ],
   "source": [
    "plot_curve()"
   ]
  },
  {
   "cell_type": "code",
   "execution_count": null,
   "metadata": {},
   "outputs": [],
   "source": []
  }
 ],
 "metadata": {
  "kernelspec": {
   "display_name": "Python 3",
   "language": "python",
   "name": "python3"
  },
  "language_info": {
   "codemirror_mode": {
    "name": "ipython",
    "version": 3
   },
   "file_extension": ".py",
   "mimetype": "text/x-python",
   "name": "python",
   "nbconvert_exporter": "python",
   "pygments_lexer": "ipython3",
   "version": "3.7.4"
  }
 },
 "nbformat": 4,
 "nbformat_minor": 2
}
