{
 "cells": [
  {
   "cell_type": "code",
   "execution_count": 174,
   "metadata": {},
   "outputs": [],
   "source": [
    "import pandas as pd\n",
    "import numpy as np\n",
    "\n",
    "\n",
    "\n",
    "data = pd.read_csv('renfe.csv')\n",
    "\n",
    "for i in ['insert_date','start_date','end_date']:\n",
    "    data[i] = pd.to_datetime(data[i])"
   ]
  },
  {
   "cell_type": "code",
   "execution_count": 175,
   "metadata": {},
   "outputs": [
    {
     "name": "stdout",
     "output_type": "stream",
     "text": [
      "<class 'pandas.core.frame.DataFrame'>\n",
      "RangeIndex: 7671354 entries, 0 to 7671353\n",
      "Data columns (total 9 columns):\n",
      "insert_date    datetime64[ns]\n",
      "origin         object\n",
      "destination    object\n",
      "start_date     datetime64[ns]\n",
      "end_date       datetime64[ns]\n",
      "train_type     object\n",
      "price          float64\n",
      "train_class    object\n",
      "fare           object\n",
      "dtypes: datetime64[ns](3), float64(1), object(5)\n",
      "memory usage: 526.8+ MB\n"
     ]
    }
   ],
   "source": [
    "data.info()"
   ]
  },
  {
   "cell_type": "code",
   "execution_count": 176,
   "metadata": {},
   "outputs": [
    {
     "data": {
      "text/plain": [
       "insert_date         0\n",
       "origin              0\n",
       "destination         0\n",
       "start_date          0\n",
       "end_date            0\n",
       "train_type          0\n",
       "price          573121\n",
       "train_class     26690\n",
       "fare            26690\n",
       "dtype: int64"
      ]
     },
     "execution_count": 176,
     "metadata": {},
     "output_type": "execute_result"
    }
   ],
   "source": [
    "data.isnull().sum()"
   ]
  },
  {
   "cell_type": "code",
   "execution_count": 177,
   "metadata": {},
   "outputs": [
    {
     "data": {
      "text/html": [
       "<div>\n",
       "<style scoped>\n",
       "    .dataframe tbody tr th:only-of-type {\n",
       "        vertical-align: middle;\n",
       "    }\n",
       "\n",
       "    .dataframe tbody tr th {\n",
       "        vertical-align: top;\n",
       "    }\n",
       "\n",
       "    .dataframe thead th {\n",
       "        text-align: right;\n",
       "    }\n",
       "</style>\n",
       "<table border=\"1\" class=\"dataframe\">\n",
       "  <thead>\n",
       "    <tr style=\"text-align: right;\">\n",
       "      <th></th>\n",
       "      <th>price</th>\n",
       "    </tr>\n",
       "  </thead>\n",
       "  <tbody>\n",
       "    <tr>\n",
       "      <td>count</td>\n",
       "      <td>7.098233e+06</td>\n",
       "    </tr>\n",
       "    <tr>\n",
       "      <td>mean</td>\n",
       "      <td>6.140090e+01</td>\n",
       "    </tr>\n",
       "    <tr>\n",
       "      <td>std</td>\n",
       "      <td>2.568568e+01</td>\n",
       "    </tr>\n",
       "    <tr>\n",
       "      <td>min</td>\n",
       "      <td>0.000000e+00</td>\n",
       "    </tr>\n",
       "    <tr>\n",
       "      <td>25%</td>\n",
       "      <td>4.120000e+01</td>\n",
       "    </tr>\n",
       "    <tr>\n",
       "      <td>50%</td>\n",
       "      <td>5.815000e+01</td>\n",
       "    </tr>\n",
       "    <tr>\n",
       "      <td>75%</td>\n",
       "      <td>7.630000e+01</td>\n",
       "    </tr>\n",
       "    <tr>\n",
       "      <td>max</td>\n",
       "      <td>3.428000e+02</td>\n",
       "    </tr>\n",
       "  </tbody>\n",
       "</table>\n",
       "</div>"
      ],
      "text/plain": [
       "              price\n",
       "count  7.098233e+06\n",
       "mean   6.140090e+01\n",
       "std    2.568568e+01\n",
       "min    0.000000e+00\n",
       "25%    4.120000e+01\n",
       "50%    5.815000e+01\n",
       "75%    7.630000e+01\n",
       "max    3.428000e+02"
      ]
     },
     "execution_count": 177,
     "metadata": {},
     "output_type": "execute_result"
    }
   ],
   "source": [
    "data.describe()"
   ]
  },
  {
   "cell_type": "code",
   "execution_count": 178,
   "metadata": {},
   "outputs": [
    {
     "data": {
      "text/plain": [
       "array(['MADRID', 'SEVILLA', 'BARCELONA', 'VALENCIA', 'PONFERRADA'],\n",
       "      dtype=object)"
      ]
     },
     "execution_count": 178,
     "metadata": {},
     "output_type": "execute_result"
    }
   ],
   "source": [
    "data['origin'].unique()"
   ]
  },
  {
   "cell_type": "code",
   "execution_count": 179,
   "metadata": {},
   "outputs": [
    {
     "data": {
      "text/plain": [
       "array(['BARCELONA', 'SEVILLA', 'VALENCIA', 'MADRID', 'PONFERRADA'],\n",
       "      dtype=object)"
      ]
     },
     "execution_count": 179,
     "metadata": {},
     "output_type": "execute_result"
    }
   ],
   "source": [
    "data['destination'].unique()"
   ]
  },
  {
   "cell_type": "code",
   "execution_count": 180,
   "metadata": {},
   "outputs": [
    {
     "data": {
      "text/plain": [
       "array(['AVE', 'AVE-TGV', 'R. EXPRES', 'AV City', 'ALVIA', 'INTERCITY',\n",
       "       'MD-LD', 'REGIONAL', 'AVE-MD', 'AVE-LD', 'LD-MD', 'MD', 'LD',\n",
       "       'TRENHOTEL', 'MD-AVE', 'LD-AVE'], dtype=object)"
      ]
     },
     "execution_count": 180,
     "metadata": {},
     "output_type": "execute_result"
    }
   ],
   "source": [
    "data['train_type'].unique()"
   ]
  },
  {
   "cell_type": "code",
   "execution_count": 181,
   "metadata": {},
   "outputs": [
    {
     "data": {
      "text/plain": [
       "array(['Preferente', 'Turista', 'Turista Plus', nan, 'Turista con enlace',\n",
       "       'Cama Turista', 'Cama G. Clase', 'TuristaSólo plaza H',\n",
       "       'PreferenteSólo plaza H', 'Turista PlusSólo plaza H'], dtype=object)"
      ]
     },
     "execution_count": 181,
     "metadata": {},
     "output_type": "execute_result"
    }
   ],
   "source": [
    "data['train_class'].unique()"
   ]
  },
  {
   "cell_type": "code",
   "execution_count": 182,
   "metadata": {},
   "outputs": [
    {
     "data": {
      "text/plain": [
       "array(['Promo', 'Flexible', nan, 'Adulto ida', 'Promo +',\n",
       "       'Individual-Flexible', 'Grupos Ida', 'Doble Familiar-Flexible',\n",
       "       'COD.PROMOCIONAL', 'Mesa', '4x100'], dtype=object)"
      ]
     },
     "execution_count": 182,
     "metadata": {},
     "output_type": "execute_result"
    }
   ],
   "source": [
    "data['fare'].unique()"
   ]
  },
  {
   "cell_type": "code",
   "execution_count": 183,
   "metadata": {},
   "outputs": [],
   "source": [
    "data['start_end_hour'] = data['end_date'] - data['start_date']\n",
    "data['start_end_hour'] = data['start_end_hour']/np.timedelta64(1,'h')"
   ]
  },
  {
   "cell_type": "code",
   "execution_count": 184,
   "metadata": {},
   "outputs": [
    {
     "name": "stdout",
     "output_type": "stream",
     "text": [
      "          insert_date  origin destination          start_date  \\\n",
      "0 2019-04-11 21:49:46  MADRID   BARCELONA 2019-04-18 05:50:00   \n",
      "1 2019-04-11 21:49:46  MADRID   BARCELONA 2019-04-18 06:30:00   \n",
      "2 2019-04-11 21:49:46  MADRID   BARCELONA 2019-04-18 07:00:00   \n",
      "3 2019-04-11 21:49:46  MADRID   BARCELONA 2019-04-18 07:30:00   \n",
      "4 2019-04-11 21:49:46  MADRID   BARCELONA 2019-04-18 08:00:00   \n",
      "\n",
      "             end_date train_type   price   train_class   fare  start_end_hour  \n",
      "0 2019-04-18 08:55:00        AVE   68.95    Preferente  Promo        3.083333  \n",
      "1 2019-04-18 09:20:00        AVE   75.40       Turista  Promo        2.833333  \n",
      "2 2019-04-18 09:30:00        AVE  106.75  Turista Plus  Promo        2.500000  \n",
      "3 2019-04-18 10:40:00        AVE   90.50  Turista Plus  Promo        3.166667  \n",
      "4 2019-04-18 10:30:00        AVE   88.95       Turista  Promo        2.500000  \n"
     ]
    }
   ],
   "source": [
    "print(data.head())"
   ]
  },
  {
   "cell_type": "code",
   "execution_count": 185,
   "metadata": {},
   "outputs": [],
   "source": [
    "data['insert_month'] = data['insert_date'].dt.month\n",
    "data['insert_day'] = data['insert_date'].dt.day\n",
    "data['insert_hour'] = data['insert_date'].dt.hour\n",
    "data['insert_min'] = data['insert_date'].dt.minute\n",
    "data['insert_sec'] = data['insert_date'].dt.second"
   ]
  },
  {
   "cell_type": "code",
   "execution_count": 186,
   "metadata": {},
   "outputs": [
    {
     "name": "stdout",
     "output_type": "stream",
     "text": [
      "           insert_date  origin destination          start_date  \\\n",
      "0  2019-04-11 21:49:46  MADRID   BARCELONA 2019-04-18 05:50:00   \n",
      "1  2019-04-11 21:49:46  MADRID   BARCELONA 2019-04-18 06:30:00   \n",
      "2  2019-04-11 21:49:46  MADRID   BARCELONA 2019-04-18 07:00:00   \n",
      "3  2019-04-11 21:49:46  MADRID   BARCELONA 2019-04-18 07:30:00   \n",
      "4  2019-04-11 21:49:46  MADRID   BARCELONA 2019-04-18 08:00:00   \n",
      "5  2019-04-11 21:49:46  MADRID   BARCELONA 2019-04-18 08:30:00   \n",
      "6  2019-04-11 21:49:46  MADRID   BARCELONA 2019-04-18 09:30:00   \n",
      "7  2019-04-11 21:49:46  MADRID   BARCELONA 2019-04-18 10:30:00   \n",
      "8  2019-04-11 21:49:46  MADRID   BARCELONA 2019-04-18 11:30:00   \n",
      "9  2019-04-11 21:49:46  MADRID   BARCELONA 2019-04-18 12:30:00   \n",
      "10 2019-04-11 21:49:46  MADRID   BARCELONA 2019-04-18 13:25:00   \n",
      "11 2019-04-11 21:49:46  MADRID   BARCELONA 2019-04-18 14:00:00   \n",
      "12 2019-04-11 21:49:46  MADRID   BARCELONA 2019-04-18 14:30:00   \n",
      "13 2019-04-11 21:49:46  MADRID   BARCELONA 2019-04-18 15:30:00   \n",
      "14 2019-04-11 21:49:46  MADRID   BARCELONA 2019-04-18 16:30:00   \n",
      "15 2019-04-11 21:49:46  MADRID   BARCELONA 2019-04-18 17:30:00   \n",
      "16 2019-04-11 21:49:46  MADRID   BARCELONA 2019-04-18 18:30:00   \n",
      "17 2019-04-11 21:49:46  MADRID   BARCELONA 2019-04-18 19:00:00   \n",
      "18 2019-04-11 21:49:46  MADRID   BARCELONA 2019-04-18 19:30:00   \n",
      "19 2019-04-11 21:49:46  MADRID   BARCELONA 2019-04-18 20:30:00   \n",
      "20 2019-04-11 21:49:46  MADRID   BARCELONA 2019-04-18 21:25:00   \n",
      "\n",
      "              end_date train_type   price   train_class      fare  \\\n",
      "0  2019-04-18 08:55:00        AVE   68.95    Preferente     Promo   \n",
      "1  2019-04-18 09:20:00        AVE   75.40       Turista     Promo   \n",
      "2  2019-04-18 09:30:00        AVE  106.75  Turista Plus     Promo   \n",
      "3  2019-04-18 10:40:00        AVE   90.50  Turista Plus     Promo   \n",
      "4  2019-04-18 10:30:00        AVE   88.95       Turista     Promo   \n",
      "5  2019-04-18 11:15:00        AVE  107.70       Turista  Flexible   \n",
      "6  2019-04-18 12:34:00        AVE  107.70       Turista  Flexible   \n",
      "7  2019-04-18 13:15:00        AVE  102.15  Turista Plus     Promo   \n",
      "8  2019-04-18 14:40:00        AVE  102.15  Turista Plus     Promo   \n",
      "9  2019-04-18 15:30:00        AVE  107.70       Turista  Flexible   \n",
      "10 2019-04-18 16:24:00    AVE-TGV  107.70       Turista  Flexible   \n",
      "11 2019-04-18 16:30:00        AVE  100.40       Turista     Promo   \n",
      "12 2019-04-18 17:21:00        AVE  107.70       Turista  Flexible   \n",
      "13 2019-04-18 18:40:00        AVE     NaN    Preferente     Promo   \n",
      "14 2019-04-18 19:15:00        AVE  102.15  Turista Plus     Promo   \n",
      "15 2019-04-18 20:40:00        AVE   75.40       Turista     Promo   \n",
      "16 2019-04-18 21:20:00        AVE   90.50  Turista Plus     Promo   \n",
      "17 2019-04-18 21:30:00        AVE  115.65    Preferente     Promo   \n",
      "18 2019-04-18 22:40:00        AVE   85.10       Turista     Promo   \n",
      "19 2019-04-18 23:40:00        AVE   85.10       Turista     Promo   \n",
      "20 2019-04-18 23:55:00        AVE     NaN           NaN       NaN   \n",
      "\n",
      "    start_end_hour  insert_month  insert_day  insert_hour  insert_min  \\\n",
      "0         3.083333             4          11           21          49   \n",
      "1         2.833333             4          11           21          49   \n",
      "2         2.500000             4          11           21          49   \n",
      "3         3.166667             4          11           21          49   \n",
      "4         2.500000             4          11           21          49   \n",
      "5         2.750000             4          11           21          49   \n",
      "6         3.066667             4          11           21          49   \n",
      "7         2.750000             4          11           21          49   \n",
      "8         3.166667             4          11           21          49   \n",
      "9         3.000000             4          11           21          49   \n",
      "10        2.983333             4          11           21          49   \n",
      "11        2.500000             4          11           21          49   \n",
      "12        2.850000             4          11           21          49   \n",
      "13        3.166667             4          11           21          49   \n",
      "14        2.750000             4          11           21          49   \n",
      "15        3.166667             4          11           21          49   \n",
      "16        2.833333             4          11           21          49   \n",
      "17        2.500000             4          11           21          49   \n",
      "18        3.166667             4          11           21          49   \n",
      "19        3.166667             4          11           21          49   \n",
      "20        2.500000             4          11           21          49   \n",
      "\n",
      "    insert_sec  \n",
      "0           46  \n",
      "1           46  \n",
      "2           46  \n",
      "3           46  \n",
      "4           46  \n",
      "5           46  \n",
      "6           46  \n",
      "7           46  \n",
      "8           46  \n",
      "9           46  \n",
      "10          46  \n",
      "11          46  \n",
      "12          46  \n",
      "13          46  \n",
      "14          46  \n",
      "15          46  \n",
      "16          46  \n",
      "17          46  \n",
      "18          46  \n",
      "19          46  \n",
      "20          46  \n"
     ]
    }
   ],
   "source": [
    "print(data.head(21))"
   ]
  },
  {
   "cell_type": "code",
   "execution_count": 187,
   "metadata": {},
   "outputs": [],
   "source": [
    "data['price'] = data['price'].fillna(data['price'].mean())\n",
    "data = data.dropna()"
   ]
  },
  {
   "cell_type": "code",
   "execution_count": 188,
   "metadata": {},
   "outputs": [],
   "source": [
    "data = data.drop(['insert_date','start_date','end_date'],1)\n",
    "\n",
    "one_hot_encoding = pd.get_dummies(data[['origin','destination','train_type','train_class','fare']])\n",
    "data = data.drop(['origin','destination','train_type','train_class','fare'],1)\n",
    "data = pd.concat([one_hot_encoding, data], axis=1)"
   ]
  },
  {
   "cell_type": "code",
   "execution_count": 189,
   "metadata": {},
   "outputs": [
    {
     "name": "stdout",
     "output_type": "stream",
     "text": [
      "   origin_BARCELONA  origin_MADRID  origin_PONFERRADA  origin_SEVILLA  \\\n",
      "0                 0              1                  0               0   \n",
      "1                 0              1                  0               0   \n",
      "2                 0              1                  0               0   \n",
      "3                 0              1                  0               0   \n",
      "4                 0              1                  0               0   \n",
      "\n",
      "   origin_VALENCIA  destination_BARCELONA  destination_MADRID  \\\n",
      "0                0                      1                   0   \n",
      "1                0                      1                   0   \n",
      "2                0                      1                   0   \n",
      "3                0                      1                   0   \n",
      "4                0                      1                   0   \n",
      "\n",
      "   destination_PONFERRADA  destination_SEVILLA  destination_VALENCIA  ...  \\\n",
      "0                       0                    0                     0  ...   \n",
      "1                       0                    0                     0  ...   \n",
      "2                       0                    0                     0  ...   \n",
      "3                       0                    0                     0  ...   \n",
      "4                       0                    0                     0  ...   \n",
      "\n",
      "   fare_Mesa  fare_Promo  fare_Promo +   price  start_end_hour  insert_month  \\\n",
      "0          0           1             0   68.95        3.083333             4   \n",
      "1          0           1             0   75.40        2.833333             4   \n",
      "2          0           1             0  106.75        2.500000             4   \n",
      "3          0           1             0   90.50        3.166667             4   \n",
      "4          0           1             0   88.95        2.500000             4   \n",
      "\n",
      "   insert_day  insert_hour  insert_min  insert_sec  \n",
      "0          11           21          49          46  \n",
      "1          11           21          49          46  \n",
      "2          11           21          49          46  \n",
      "3          11           21          49          46  \n",
      "4          11           21          49          46  \n",
      "\n",
      "[5 rows x 52 columns]\n"
     ]
    }
   ],
   "source": [
    "print(data.head())"
   ]
  },
  {
   "cell_type": "code",
   "execution_count": 190,
   "metadata": {},
   "outputs": [
    {
     "data": {
      "text/html": [
       "<div>\n",
       "<style scoped>\n",
       "    .dataframe tbody tr th:only-of-type {\n",
       "        vertical-align: middle;\n",
       "    }\n",
       "\n",
       "    .dataframe tbody tr th {\n",
       "        vertical-align: top;\n",
       "    }\n",
       "\n",
       "    .dataframe thead th {\n",
       "        text-align: right;\n",
       "    }\n",
       "</style>\n",
       "<table border=\"1\" class=\"dataframe\">\n",
       "  <thead>\n",
       "    <tr style=\"text-align: right;\">\n",
       "      <th></th>\n",
       "      <th>origin_BARCELONA</th>\n",
       "      <th>origin_MADRID</th>\n",
       "      <th>origin_PONFERRADA</th>\n",
       "      <th>origin_SEVILLA</th>\n",
       "      <th>origin_VALENCIA</th>\n",
       "      <th>destination_BARCELONA</th>\n",
       "      <th>destination_MADRID</th>\n",
       "      <th>destination_PONFERRADA</th>\n",
       "      <th>destination_SEVILLA</th>\n",
       "      <th>destination_VALENCIA</th>\n",
       "      <th>...</th>\n",
       "      <th>fare_Mesa</th>\n",
       "      <th>fare_Promo</th>\n",
       "      <th>fare_Promo +</th>\n",
       "      <th>price</th>\n",
       "      <th>start_end_hour</th>\n",
       "      <th>insert_month</th>\n",
       "      <th>insert_day</th>\n",
       "      <th>insert_hour</th>\n",
       "      <th>insert_min</th>\n",
       "      <th>insert_sec</th>\n",
       "    </tr>\n",
       "  </thead>\n",
       "  <tbody>\n",
       "    <tr>\n",
       "      <td>count</td>\n",
       "      <td>7.644664e+06</td>\n",
       "      <td>7.644664e+06</td>\n",
       "      <td>7.644664e+06</td>\n",
       "      <td>7.644664e+06</td>\n",
       "      <td>7.644664e+06</td>\n",
       "      <td>7.644664e+06</td>\n",
       "      <td>7.644664e+06</td>\n",
       "      <td>7.644664e+06</td>\n",
       "      <td>7.644664e+06</td>\n",
       "      <td>7.644664e+06</td>\n",
       "      <td>...</td>\n",
       "      <td>7.644664e+06</td>\n",
       "      <td>7.644664e+06</td>\n",
       "      <td>7.644664e+06</td>\n",
       "      <td>7.644664e+06</td>\n",
       "      <td>7.644664e+06</td>\n",
       "      <td>7.644664e+06</td>\n",
       "      <td>7.644664e+06</td>\n",
       "      <td>7.644664e+06</td>\n",
       "      <td>7.644664e+06</td>\n",
       "      <td>7.644664e+06</td>\n",
       "    </tr>\n",
       "    <tr>\n",
       "      <td>mean</td>\n",
       "      <td>1.612144e-01</td>\n",
       "      <td>5.006068e-01</td>\n",
       "      <td>4.133328e-02</td>\n",
       "      <td>1.582850e-01</td>\n",
       "      <td>1.385604e-01</td>\n",
       "      <td>1.667596e-01</td>\n",
       "      <td>4.993932e-01</td>\n",
       "      <td>2.307296e-02</td>\n",
       "      <td>1.590622e-01</td>\n",
       "      <td>1.517121e-01</td>\n",
       "      <td>...</td>\n",
       "      <td>2.092963e-05</td>\n",
       "      <td>6.962455e-01</td>\n",
       "      <td>2.451919e-02</td>\n",
       "      <td>6.140090e+01</td>\n",
       "      <td>3.118384e+00</td>\n",
       "      <td>5.397177e+00</td>\n",
       "      <td>1.637228e+01</td>\n",
       "      <td>1.180751e+01</td>\n",
       "      <td>2.423485e+01</td>\n",
       "      <td>2.956629e+01</td>\n",
       "    </tr>\n",
       "    <tr>\n",
       "      <td>std</td>\n",
       "      <td>3.677286e-01</td>\n",
       "      <td>4.999997e-01</td>\n",
       "      <td>1.990599e-01</td>\n",
       "      <td>3.650081e-01</td>\n",
       "      <td>3.454873e-01</td>\n",
       "      <td>3.727611e-01</td>\n",
       "      <td>4.999997e-01</td>\n",
       "      <td>1.501353e-01</td>\n",
       "      <td>3.657341e-01</td>\n",
       "      <td>3.587416e-01</td>\n",
       "      <td>...</td>\n",
       "      <td>4.574844e-03</td>\n",
       "      <td>4.598779e-01</td>\n",
       "      <td>1.546545e-01</td>\n",
       "      <td>2.475067e+01</td>\n",
       "      <td>1.584469e+00</td>\n",
       "      <td>1.248758e+00</td>\n",
       "      <td>7.877853e+00</td>\n",
       "      <td>6.784666e+00</td>\n",
       "      <td>1.508104e+01</td>\n",
       "      <td>1.727225e+01</td>\n",
       "    </tr>\n",
       "    <tr>\n",
       "      <td>min</td>\n",
       "      <td>0.000000e+00</td>\n",
       "      <td>0.000000e+00</td>\n",
       "      <td>0.000000e+00</td>\n",
       "      <td>0.000000e+00</td>\n",
       "      <td>0.000000e+00</td>\n",
       "      <td>0.000000e+00</td>\n",
       "      <td>0.000000e+00</td>\n",
       "      <td>0.000000e+00</td>\n",
       "      <td>0.000000e+00</td>\n",
       "      <td>0.000000e+00</td>\n",
       "      <td>...</td>\n",
       "      <td>0.000000e+00</td>\n",
       "      <td>0.000000e+00</td>\n",
       "      <td>0.000000e+00</td>\n",
       "      <td>0.000000e+00</td>\n",
       "      <td>1.633333e+00</td>\n",
       "      <td>4.000000e+00</td>\n",
       "      <td>1.000000e+00</td>\n",
       "      <td>0.000000e+00</td>\n",
       "      <td>0.000000e+00</td>\n",
       "      <td>0.000000e+00</td>\n",
       "    </tr>\n",
       "    <tr>\n",
       "      <td>25%</td>\n",
       "      <td>0.000000e+00</td>\n",
       "      <td>0.000000e+00</td>\n",
       "      <td>0.000000e+00</td>\n",
       "      <td>0.000000e+00</td>\n",
       "      <td>0.000000e+00</td>\n",
       "      <td>0.000000e+00</td>\n",
       "      <td>0.000000e+00</td>\n",
       "      <td>0.000000e+00</td>\n",
       "      <td>0.000000e+00</td>\n",
       "      <td>0.000000e+00</td>\n",
       "      <td>...</td>\n",
       "      <td>0.000000e+00</td>\n",
       "      <td>0.000000e+00</td>\n",
       "      <td>0.000000e+00</td>\n",
       "      <td>4.325000e+01</td>\n",
       "      <td>2.500000e+00</td>\n",
       "      <td>4.000000e+00</td>\n",
       "      <td>1.100000e+01</td>\n",
       "      <td>6.000000e+00</td>\n",
       "      <td>1.200000e+01</td>\n",
       "      <td>1.500000e+01</td>\n",
       "    </tr>\n",
       "    <tr>\n",
       "      <td>50%</td>\n",
       "      <td>0.000000e+00</td>\n",
       "      <td>1.000000e+00</td>\n",
       "      <td>0.000000e+00</td>\n",
       "      <td>0.000000e+00</td>\n",
       "      <td>0.000000e+00</td>\n",
       "      <td>0.000000e+00</td>\n",
       "      <td>0.000000e+00</td>\n",
       "      <td>0.000000e+00</td>\n",
       "      <td>0.000000e+00</td>\n",
       "      <td>0.000000e+00</td>\n",
       "      <td>...</td>\n",
       "      <td>0.000000e+00</td>\n",
       "      <td>1.000000e+00</td>\n",
       "      <td>0.000000e+00</td>\n",
       "      <td>6.030000e+01</td>\n",
       "      <td>2.633333e+00</td>\n",
       "      <td>5.000000e+00</td>\n",
       "      <td>1.700000e+01</td>\n",
       "      <td>1.100000e+01</td>\n",
       "      <td>2.300000e+01</td>\n",
       "      <td>2.900000e+01</td>\n",
       "    </tr>\n",
       "    <tr>\n",
       "      <td>75%</td>\n",
       "      <td>0.000000e+00</td>\n",
       "      <td>1.000000e+00</td>\n",
       "      <td>0.000000e+00</td>\n",
       "      <td>0.000000e+00</td>\n",
       "      <td>0.000000e+00</td>\n",
       "      <td>0.000000e+00</td>\n",
       "      <td>1.000000e+00</td>\n",
       "      <td>0.000000e+00</td>\n",
       "      <td>0.000000e+00</td>\n",
       "      <td>0.000000e+00</td>\n",
       "      <td>...</td>\n",
       "      <td>0.000000e+00</td>\n",
       "      <td>1.000000e+00</td>\n",
       "      <td>0.000000e+00</td>\n",
       "      <td>7.630000e+01</td>\n",
       "      <td>3.166667e+00</td>\n",
       "      <td>6.000000e+00</td>\n",
       "      <td>2.200000e+01</td>\n",
       "      <td>1.700000e+01</td>\n",
       "      <td>3.600000e+01</td>\n",
       "      <td>4.500000e+01</td>\n",
       "    </tr>\n",
       "    <tr>\n",
       "      <td>max</td>\n",
       "      <td>1.000000e+00</td>\n",
       "      <td>1.000000e+00</td>\n",
       "      <td>1.000000e+00</td>\n",
       "      <td>1.000000e+00</td>\n",
       "      <td>1.000000e+00</td>\n",
       "      <td>1.000000e+00</td>\n",
       "      <td>1.000000e+00</td>\n",
       "      <td>1.000000e+00</td>\n",
       "      <td>1.000000e+00</td>\n",
       "      <td>1.000000e+00</td>\n",
       "      <td>...</td>\n",
       "      <td>1.000000e+00</td>\n",
       "      <td>1.000000e+00</td>\n",
       "      <td>1.000000e+00</td>\n",
       "      <td>3.428000e+02</td>\n",
       "      <td>1.241667e+01</td>\n",
       "      <td>8.000000e+00</td>\n",
       "      <td>3.100000e+01</td>\n",
       "      <td>2.300000e+01</td>\n",
       "      <td>5.900000e+01</td>\n",
       "      <td>5.900000e+01</td>\n",
       "    </tr>\n",
       "  </tbody>\n",
       "</table>\n",
       "<p>8 rows × 52 columns</p>\n",
       "</div>"
      ],
      "text/plain": [
       "       origin_BARCELONA  origin_MADRID  origin_PONFERRADA  origin_SEVILLA  \\\n",
       "count      7.644664e+06   7.644664e+06       7.644664e+06    7.644664e+06   \n",
       "mean       1.612144e-01   5.006068e-01       4.133328e-02    1.582850e-01   \n",
       "std        3.677286e-01   4.999997e-01       1.990599e-01    3.650081e-01   \n",
       "min        0.000000e+00   0.000000e+00       0.000000e+00    0.000000e+00   \n",
       "25%        0.000000e+00   0.000000e+00       0.000000e+00    0.000000e+00   \n",
       "50%        0.000000e+00   1.000000e+00       0.000000e+00    0.000000e+00   \n",
       "75%        0.000000e+00   1.000000e+00       0.000000e+00    0.000000e+00   \n",
       "max        1.000000e+00   1.000000e+00       1.000000e+00    1.000000e+00   \n",
       "\n",
       "       origin_VALENCIA  destination_BARCELONA  destination_MADRID  \\\n",
       "count     7.644664e+06           7.644664e+06        7.644664e+06   \n",
       "mean      1.385604e-01           1.667596e-01        4.993932e-01   \n",
       "std       3.454873e-01           3.727611e-01        4.999997e-01   \n",
       "min       0.000000e+00           0.000000e+00        0.000000e+00   \n",
       "25%       0.000000e+00           0.000000e+00        0.000000e+00   \n",
       "50%       0.000000e+00           0.000000e+00        0.000000e+00   \n",
       "75%       0.000000e+00           0.000000e+00        1.000000e+00   \n",
       "max       1.000000e+00           1.000000e+00        1.000000e+00   \n",
       "\n",
       "       destination_PONFERRADA  destination_SEVILLA  destination_VALENCIA  ...  \\\n",
       "count            7.644664e+06         7.644664e+06          7.644664e+06  ...   \n",
       "mean             2.307296e-02         1.590622e-01          1.517121e-01  ...   \n",
       "std              1.501353e-01         3.657341e-01          3.587416e-01  ...   \n",
       "min              0.000000e+00         0.000000e+00          0.000000e+00  ...   \n",
       "25%              0.000000e+00         0.000000e+00          0.000000e+00  ...   \n",
       "50%              0.000000e+00         0.000000e+00          0.000000e+00  ...   \n",
       "75%              0.000000e+00         0.000000e+00          0.000000e+00  ...   \n",
       "max              1.000000e+00         1.000000e+00          1.000000e+00  ...   \n",
       "\n",
       "          fare_Mesa    fare_Promo  fare_Promo +         price  start_end_hour  \\\n",
       "count  7.644664e+06  7.644664e+06  7.644664e+06  7.644664e+06    7.644664e+06   \n",
       "mean   2.092963e-05  6.962455e-01  2.451919e-02  6.140090e+01    3.118384e+00   \n",
       "std    4.574844e-03  4.598779e-01  1.546545e-01  2.475067e+01    1.584469e+00   \n",
       "min    0.000000e+00  0.000000e+00  0.000000e+00  0.000000e+00    1.633333e+00   \n",
       "25%    0.000000e+00  0.000000e+00  0.000000e+00  4.325000e+01    2.500000e+00   \n",
       "50%    0.000000e+00  1.000000e+00  0.000000e+00  6.030000e+01    2.633333e+00   \n",
       "75%    0.000000e+00  1.000000e+00  0.000000e+00  7.630000e+01    3.166667e+00   \n",
       "max    1.000000e+00  1.000000e+00  1.000000e+00  3.428000e+02    1.241667e+01   \n",
       "\n",
       "       insert_month    insert_day   insert_hour    insert_min    insert_sec  \n",
       "count  7.644664e+06  7.644664e+06  7.644664e+06  7.644664e+06  7.644664e+06  \n",
       "mean   5.397177e+00  1.637228e+01  1.180751e+01  2.423485e+01  2.956629e+01  \n",
       "std    1.248758e+00  7.877853e+00  6.784666e+00  1.508104e+01  1.727225e+01  \n",
       "min    4.000000e+00  1.000000e+00  0.000000e+00  0.000000e+00  0.000000e+00  \n",
       "25%    4.000000e+00  1.100000e+01  6.000000e+00  1.200000e+01  1.500000e+01  \n",
       "50%    5.000000e+00  1.700000e+01  1.100000e+01  2.300000e+01  2.900000e+01  \n",
       "75%    6.000000e+00  2.200000e+01  1.700000e+01  3.600000e+01  4.500000e+01  \n",
       "max    8.000000e+00  3.100000e+01  2.300000e+01  5.900000e+01  5.900000e+01  \n",
       "\n",
       "[8 rows x 52 columns]"
      ]
     },
     "execution_count": 190,
     "metadata": {},
     "output_type": "execute_result"
    }
   ],
   "source": [
    "data.describe()"
   ]
  },
  {
   "cell_type": "code",
   "execution_count": 191,
   "metadata": {},
   "outputs": [
    {
     "name": "stdout",
     "output_type": "stream",
     "text": [
      "         origin_BARCELONA  origin_MADRID  origin_PONFERRADA  origin_SEVILLA  \\\n",
      "0                       0              1                  0               0   \n",
      "1                       0              1                  0               0   \n",
      "2                       0              1                  0               0   \n",
      "3                       0              1                  0               0   \n",
      "4                       0              1                  0               0   \n",
      "...                   ...            ...                ...             ...   \n",
      "7671349                 0              0                  0               0   \n",
      "7671350                 0              0                  0               0   \n",
      "7671351                 0              0                  0               0   \n",
      "7671352                 0              0                  0               0   \n",
      "7671353                 0              0                  0               0   \n",
      "\n",
      "         origin_VALENCIA  destination_BARCELONA  destination_MADRID  \\\n",
      "0                      0                      1                   0   \n",
      "1                      0                      1                   0   \n",
      "2                      0                      1                   0   \n",
      "3                      0                      1                   0   \n",
      "4                      0                      1                   0   \n",
      "...                  ...                    ...                 ...   \n",
      "7671349                1                      0                   1   \n",
      "7671350                1                      0                   1   \n",
      "7671351                1                      0                   1   \n",
      "7671352                1                      0                   1   \n",
      "7671353                1                      0                   1   \n",
      "\n",
      "         destination_PONFERRADA  destination_SEVILLA  destination_VALENCIA  \\\n",
      "0                             0                    0                     0   \n",
      "1                             0                    0                     0   \n",
      "2                             0                    0                     0   \n",
      "3                             0                    0                     0   \n",
      "4                             0                    0                     0   \n",
      "...                         ...                  ...                   ...   \n",
      "7671349                       0                    0                     0   \n",
      "7671350                       0                    0                     0   \n",
      "7671351                       0                    0                     0   \n",
      "7671352                       0                    0                     0   \n",
      "7671353                       0                    0                     0   \n",
      "\n",
      "         ...  fare_Mesa  fare_Promo  fare_Promo +   price  start_end_hour  \\\n",
      "0        ...          0           1             0   68.95        3.083333   \n",
      "1        ...          0           1             0   75.40        2.833333   \n",
      "2        ...          0           1             0  106.75        2.500000   \n",
      "3        ...          0           1             0   90.50        3.166667   \n",
      "4        ...          0           1             0   88.95        2.500000   \n",
      "...      ...        ...         ...           ...     ...             ...   \n",
      "7671349  ...          0           0             0   28.35        7.450000   \n",
      "7671350  ...          0           1             0   33.65        1.633333   \n",
      "7671351  ...          0           1             0   45.30        1.666667   \n",
      "7671352  ...          0           1             0   15.70        2.416667   \n",
      "7671353  ...          0           1             0   45.30        1.666667   \n",
      "\n",
      "         insert_month  insert_day  insert_hour  insert_min  insert_sec  \n",
      "0                   4          11           21          49          46  \n",
      "1                   4          11           21          49          46  \n",
      "2                   4          11           21          49          46  \n",
      "3                   4          11           21          49          46  \n",
      "4                   4          11           21          49          46  \n",
      "...               ...         ...          ...         ...         ...  \n",
      "7671349             5          25           21          26          25  \n",
      "7671350             5          25           21          26          25  \n",
      "7671351             5          25           21          26          25  \n",
      "7671352             5          25           21          26          25  \n",
      "7671353             5          25           21          26          25  \n",
      "\n",
      "[7644664 rows x 52 columns]\n"
     ]
    }
   ],
   "source": [
    "print(data)"
   ]
  },
  {
   "cell_type": "code",
   "execution_count": null,
   "metadata": {},
   "outputs": [],
   "source": []
  }
 ],
 "metadata": {
  "kernelspec": {
   "display_name": "Python 3",
   "language": "python",
   "name": "python3"
  },
  "language_info": {
   "codemirror_mode": {
    "name": "ipython",
    "version": 3
   },
   "file_extension": ".py",
   "mimetype": "text/x-python",
   "name": "python",
   "nbconvert_exporter": "python",
   "pygments_lexer": "ipython3",
   "version": "3.7.4"
  }
 },
 "nbformat": 4,
 "nbformat_minor": 2
}
