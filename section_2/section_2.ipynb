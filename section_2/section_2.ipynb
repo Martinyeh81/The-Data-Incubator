{
 "cells": [
  {
   "cell_type": "code",
   "execution_count": 1,
   "metadata": {},
   "outputs": [],
   "source": [
    "import pandas as pd\n",
    "import numpy as np"
   ]
  },
  {
   "cell_type": "code",
   "execution_count": 2,
   "metadata": {},
   "outputs": [
    {
     "name": "stdout",
     "output_type": "stream",
     "text": [
      "          npi nppes_provider_last_org_name nppes_provider_first_name  \\\n",
      "0  1003000126                    ENKESHAFI                   ARDALAN   \n",
      "1  1003000142                       KHALIL                    RASHID   \n",
      "2  1003000167                      ESCOBAR                     JULIO   \n",
      "3  1003000175                REYES-VASQUEZ                   BELINDA   \n",
      "4  1003000282                    BLAKEMORE                     ROSIE   \n",
      "\n",
      "  nppes_provider_mi nppes_credentials nppes_provider_gender nppes_entity_code  \\\n",
      "0               NaN              M.D.                     M                 I   \n",
      "1               NaN              M.D.                     M                 I   \n",
      "2                 E               DDS                     M                 I   \n",
      "3               NaN            D.D.S.                     F                 I   \n",
      "4                 K               FNP                     F                 I   \n",
      "\n",
      "       nppes_provider_street1 nppes_provider_street2 nppes_provider_city  ...  \\\n",
      "0                900 SETON DR                    NaN          CUMBERLAND  ...   \n",
      "1  4126 N HOLLAND SYLVANIA RD              SUITE 220              TOLEDO  ...   \n",
      "2              5 PINE CONE RD                    NaN              DAYTON  ...   \n",
      "3     322 N AZUSA AVE STE 202                    NaN           LA PUENTE  ...   \n",
      "4  TENNESSEE PRISON FOR WOMEN     3881 STEWARTS LANE           NASHVILLE  ...   \n",
      "\n",
      "   beneficiary_male_count  beneficiary_race_white_count  \\\n",
      "0                    92.0                         220.0   \n",
      "1                    92.0                         195.0   \n",
      "2                    17.0                           NaN   \n",
      "3                     NaN                           NaN   \n",
      "4                     NaN                           NaN   \n",
      "\n",
      "  beneficiary_race_black_count beneficiary_race_asian_pi_count  \\\n",
      "0                         14.0                             0.0   \n",
      "1                         58.0                             NaN   \n",
      "2                          0.0                             0.0   \n",
      "3                          NaN                             NaN   \n",
      "4                          NaN                             0.0   \n",
      "\n",
      "  beneficiary_race_hispanic_count beneficiary_race_nat_ind_count  \\\n",
      "0                             0.0                            0.0   \n",
      "1                             NaN                            0.0   \n",
      "2                             NaN                            0.0   \n",
      "3                             NaN                            NaN   \n",
      "4                             NaN                            0.0   \n",
      "\n",
      "  beneficiary_race_other_count  beneficiary_nondual_count  \\\n",
      "0                          0.0                      143.0   \n",
      "1                          NaN                      143.0   \n",
      "2                          0.0                        NaN   \n",
      "3                          NaN                        NaN   \n",
      "4                          0.0                        NaN   \n",
      "\n",
      "   beneficiary_dual_count  beneficiary_average_risk_score  \n",
      "0                    91.0                          2.1685  \n",
      "1                   133.0                          1.8029  \n",
      "2                     NaN                          1.0598  \n",
      "3                     NaN                             NaN  \n",
      "4                     NaN                          4.5148  \n",
      "\n",
      "[5 rows x 84 columns]\n"
     ]
    }
   ],
   "source": [
    "data = pd.read_csv('PartD_Prescriber_PUF_NPI_17.txt',sep='\\t')\n",
    "print(data.head())"
   ]
  },
  {
   "cell_type": "markdown",
   "metadata": {},
   "source": [
    "In 2017, what was the average number of beneficiaries per provider? Due to the suppression of data for those with few beneficiaries, we can only include those with more than 10 beneficiaries."
   ]
  },
  {
   "cell_type": "code",
   "execution_count": 3,
   "metadata": {},
   "outputs": [
    {
     "name": "stdout",
     "output_type": "stream",
     "text": [
      "0          234.0\n",
      "1          276.0\n",
      "2           33.0\n",
      "4           11.0\n",
      "5          117.0\n",
      "           ...  \n",
      "1162891     37.0\n",
      "1162892     19.0\n",
      "1162893    144.0\n",
      "1162896     38.0\n",
      "1162897     77.0\n",
      "Name: bene_count, Length: 1031058, dtype: float64\n",
      "140.3971942485018\n"
     ]
    }
   ],
   "source": [
    "data1 = data['bene_count']\n",
    "data1 = data1.dropna()\n",
    "print(data1)\n",
    "total = np.sum(data1.values)\n",
    "print(total/1162897)"
   ]
  },
  {
   "cell_type": "markdown",
   "metadata": {},
   "source": [
    "For each provider, estimate the length of the average prescription from the total_day_supply and total_claim_count. What is the median, in days, of the distribution of this value across all providers?"
   ]
  },
  {
   "cell_type": "code",
   "execution_count": 4,
   "metadata": {},
   "outputs": [
    {
     "name": "stdout",
     "output_type": "stream",
     "text": [
      "0    0.045780\n",
      "1    0.033205\n",
      "2    0.127907\n",
      "3    0.120000\n",
      "4    0.033570\n",
      "dtype: float64\n",
      "count    1.162898e+06\n",
      "mean     5.543928e-02\n",
      "std      6.880941e-02\n",
      "min      3.908286e-03\n",
      "25%      2.352941e-02\n",
      "50%      3.365578e-02\n",
      "75%      6.490872e-02\n",
      "max      1.000000e+00\n",
      "dtype: float64\n"
     ]
    }
   ],
   "source": [
    "data2 = data[['total_claim_count','total_day_supply']]\n",
    "data2 = data2.dropna()\n",
    "data2 = data['total_claim_count']/data['total_day_supply']\n",
    "print(data2.head())\n",
    "print(data2.describe())"
   ]
  },
  {
   "cell_type": "markdown",
   "metadata": {},
   "source": [
    "Work out for each Specialty the fraction of drug claims that are for brand-name drugs. Include only providers for whom the relevant information has not been suppressed, and consider only specialties with at least 1000 total claims. What is the standard deviation of these fractions?"
   ]
  },
  {
   "cell_type": "code",
   "execution_count": 5,
   "metadata": {},
   "outputs": [
    {
     "name": "stdout",
     "output_type": "stream",
     "text": [
      "                                                    brand_claim_count  count\n",
      "Allergy/ Immunology                                          883748.0   3457\n",
      "Anesthesiology                                               503470.0   3913\n",
      "Cardiology                                                 10222462.0  16140\n",
      "Certified Clinical Nurse Specialist                          303049.0   1785\n",
      "Clinical Cardiac Electrophysiology                           829875.0   1854\n",
      "Critical Care (Intensivists)                                 470162.0   1071\n",
      "Dentist                                                       28921.0  85976\n",
      "Dermatology                                                  948739.0  10574\n",
      "Diagnostic Radiology                                          43881.0   1916\n",
      "Emergency Medicine                                          1645244.0  22349\n",
      "Endocrinology                                               7076382.0   5532\n",
      "Family Practice                                            63474840.0  76356\n",
      "Gastroenterology                                            2027400.0   8665\n",
      "General Practice                                            4696150.0   6220\n",
      "General Surgery                                              442272.0   9662\n",
      "Geriatric Medicine                                          1927860.0   1333\n",
      "Hematology-Oncology                                         1097092.0   5928\n",
      "Hospitalist                                                  273762.0   2127\n",
      "Infectious Disease                                          1417327.0   4161\n",
      "Internal Medicine                                          68484105.0  79975\n",
      "Interventional Cardiology                                   1517602.0   2605\n",
      "Interventional Pain Management                               401720.0   1355\n",
      "Medical Oncology                                             314262.0   2204\n",
      "Nephrology                                                  2341398.0   5076\n",
      "Neurology                                                   2856706.0   9394\n",
      "Neuropsychiatry                                               66882.0   1386\n",
      "Neurosurgery                                                  38063.0   1668\n",
      "Nurse Practitioner                                         20649117.0  84834\n",
      "Obstetrics & Gynecology                                     1145624.0  20364\n",
      "Ophthalmology                                              12851012.0  18130\n",
      "Optometry                                                   2940025.0  21566\n",
      "Oral Surgery (Dentist only)                                    5850.0   2787\n",
      "Orthopedic Surgery                                           299351.0  10240\n",
      "Otolaryngology                                               444614.0   7266\n",
      "Pain Management                                              436813.0   1806\n",
      "Pediatric Medicine                                           376947.0   4524\n",
      "Pharmacist                                                   243550.0   5064\n",
      "Physical Medicine and Rehabilitation                         635283.0   4680\n",
      "Physician Assistant                                         8996999.0  48031\n",
      "Plastic and Reconstructive Surgery                            32454.0   1636\n",
      "Podiatry                                                     345626.0   8912\n",
      "Psychiatry                                                  3312789.0  18920\n",
      "Psychiatry & Neurology                                       466957.0   8389\n",
      "Pulmonary Disease                                           6588768.0   8286\n",
      "Radiation Oncology                                            50277.0   2013\n",
      "Rheumatology                                                1383854.0   2477\n",
      "Specialist                                                    99512.0   1486\n",
      "Student in an Organized Health Care Education/T...           580744.0  17589\n",
      "Urology                                                     1089548.0   5269\n",
      "Vascular Surgery                                              64906.0   1729\n",
      "Allergy/ Immunology                                                255.640150\n",
      "Anesthesiology                                                     128.665985\n",
      "Cardiology                                                         633.361958\n",
      "Certified Clinical Nurse Specialist                                169.775350\n",
      "Clinical Cardiac Electrophysiology                                 447.613269\n",
      "Critical Care (Intensivists)                                       438.993464\n",
      "Dentist                                                              0.336385\n",
      "Dermatology                                                         89.723756\n",
      "Diagnostic Radiology                                                22.902401\n",
      "Emergency Medicine                                                  73.616001\n",
      "Endocrinology                                                     1279.172451\n",
      "Family Practice                                                    831.301273\n",
      "Gastroenterology                                                   233.975765\n",
      "General Practice                                                   755.008039\n",
      "General Surgery                                                     45.774374\n",
      "Geriatric Medicine                                                1446.256564\n",
      "Hematology-Oncology                                                185.069501\n",
      "Hospitalist                                                        128.708039\n",
      "Infectious Disease                                                 340.621726\n",
      "Internal Medicine                                                  856.318912\n",
      "Interventional Cardiology                                          582.572745\n",
      "Interventional Pain Management                                     296.472325\n",
      "Medical Oncology                                                   142.587114\n",
      "Nephrology                                                         461.268322\n",
      "Neurology                                                          304.098999\n",
      "Neuropsychiatry                                                     48.255411\n",
      "Neurosurgery                                                        22.819544\n",
      "Nurse Practitioner                                                 243.406146\n",
      "Obstetrics & Gynecology                                             56.257317\n",
      "Ophthalmology                                                      708.825814\n",
      "Optometry                                                          136.326857\n",
      "Oral Surgery (Dentist only)                                          2.099031\n",
      "Orthopedic Surgery                                                  29.233496\n",
      "Otolaryngology                                                      61.191027\n",
      "Pain Management                                                    241.867663\n",
      "Pediatric Medicine                                                  83.321618\n",
      "Pharmacist                                                          48.094392\n",
      "Physical Medicine and Rehabilitation                               135.744231\n",
      "Physician Assistant                                                187.316504\n",
      "Plastic and Reconstructive Surgery                                  19.837408\n",
      "Podiatry                                                            38.782092\n",
      "Psychiatry                                                         175.094556\n",
      "Psychiatry & Neurology                                              55.663011\n",
      "Pulmonary Disease                                                  795.168718\n",
      "Radiation Oncology                                                  24.976155\n",
      "Rheumatology                                                       558.681470\n",
      "Specialist                                                          66.966353\n",
      "Student in an Organized Health Care Education/Training Program      33.017454\n",
      "Urology                                                            206.784589\n",
      "Vascular Surgery                                                    37.539618\n",
      "dtype: float64\n",
      "326.99429697075897\n"
     ]
    }
   ],
   "source": [
    "data3_drop = data[['specialty_description','brand_claim_count']].dropna()\n",
    "data3_group = data3_drop.groupby(by='specialty_description').sum()\n",
    "data3_count = data3_drop['specialty_description'].value_counts()\n",
    "data3_concat = pd.concat([data3_group['brand_claim_count'],data3_count],axis=1,sort=True, keys=['brand_claim_count','count'])\n",
    "data3_1000 = data3_concat[data3_concat['count']>1000]\n",
    "data3_frac = data3_1000['brand_claim_count']/data3_1000['count']\n",
    "print(data3_1000)\n",
    "print(data3_frac)\n",
    "print(np.std(data3_frac.values))"
   ]
  },
  {
   "cell_type": "markdown",
   "metadata": {},
   "source": [
    "Find the ratio of beneficiaries with opioid prescriptions to beneficiaries with antibiotics prescriptions in each state. Assume that each beneficiary attends only a single provider. What is the difference between the largest and smallest ratios?"
   ]
  },
  {
   "cell_type": "code",
   "execution_count": 6,
   "metadata": {},
   "outputs": [
    {
     "name": "stdout",
     "output_type": "stream",
     "text": [
      "count    61.000000\n",
      "mean      0.621862\n",
      "std       0.113623\n",
      "min       0.358576\n",
      "25%       0.557738\n",
      "50%       0.638357\n",
      "75%       0.694272\n",
      "max       0.860136\n",
      "dtype: float64\n",
      "0.501559277375204\n"
     ]
    }
   ],
   "source": [
    "data4 = data[['nppes_provider_state','opioid_bene_count','antibiotic_bene_count']]\n",
    "data4 = data4.dropna()\n",
    "data4 = data4.groupby(by='nppes_provider_state').sum()\n",
    "data4 = data4['opioid_bene_count']/data4['antibiotic_bene_count']\n",
    "print(data4.describe())\n",
    "print(data4.max()-data4.min())"
   ]
  },
  {
   "cell_type": "markdown",
   "metadata": {},
   "source": [
    "For each provider where the relevant columns are not suppressed, work out the fraction of claims for beneficiaries age 65 and older, as well as the fraction of claims for beneficiaries with a low-income subsidy. What is the Pearson correlation coefficient between these values?"
   ]
  },
  {
   "cell_type": "code",
   "execution_count": 7,
   "metadata": {},
   "outputs": [
    {
     "name": "stdout",
     "output_type": "stream",
     "text": [
      "         total_claim_count_ge65  lis_claim_count\n",
      "0                         516.0            305.0\n",
      "1                         881.0           1184.0\n",
      "4                          65.0             73.0\n",
      "5                        2700.0           1990.0\n",
      "6                         118.0             70.0\n",
      "...                         ...              ...\n",
      "1162891                    94.0            145.0\n",
      "1162893                   229.0             58.0\n",
      "1162894                    59.0              0.0\n",
      "1162896                    66.0             28.0\n",
      "1162897                    54.0            220.0\n",
      "\n",
      "[834684 rows x 2 columns]\n",
      "(0.8067444425923471, 0.0)\n"
     ]
    }
   ],
   "source": [
    "from scipy.stats import pearsonr\n",
    "data5 = data[['total_claim_count_ge65','lis_claim_count']]\n",
    "data5 = data5.dropna()\n",
    "print(data5)\n",
    "pearson = pearsonr(data5['total_claim_count_ge65'].values, data5['lis_claim_count'].values)\n",
    "print(pearson)"
   ]
  },
  {
   "cell_type": "markdown",
   "metadata": {},
   "source": [
    "Let's find which states have surprisingly high supply of opioids, conditioned on specialty. Work out the average length of an opioid prescription for each provider. For each (state, specialty) pair with at least 100 providers, calculate the average of this value across all providers. Then find the ratio of this value to an equivalent quantity calculated from providers in each specialty across all states. What is the largest such ratio?"
   ]
  },
  {
   "cell_type": "code",
   "execution_count": 8,
   "metadata": {},
   "outputs": [
    {
     "name": "stdout",
     "output_type": "stream",
     "text": [
      "                                                                        opioid_claim_count  \\\n",
      "                                                                                      mean   \n",
      "nppes_provider_state specialty_description                                                   \n",
      "AK                   Family Practice                                             63.839394   \n",
      "                     Nurse Practitioner                                          51.912000   \n",
      "                     Physician Assistant                                         60.697581   \n",
      "AL                   Anesthesiology                                            1314.533981   \n",
      "                     Cardiology                                                  27.829060   \n",
      "...                                                                                    ...   \n",
      "WV                   Psychiatry                                                  11.834783   \n",
      "                     Student in an Organized Health Care Education/T...          21.909341   \n",
      "WY                   Family Practice                                            155.484163   \n",
      "                     Nurse Practitioner                                          77.427907   \n",
      "                     Physician Assistant                                         94.478788   \n",
      "\n",
      "                                                                               \n",
      "                                                                        count  \n",
      "nppes_provider_state specialty_description                                     \n",
      "AK                   Family Practice                                      330  \n",
      "                     Nurse Practitioner                                   250  \n",
      "                     Physician Assistant                                  248  \n",
      "AL                   Anesthesiology                                       103  \n",
      "                     Cardiology                                           117  \n",
      "...                                                                       ...  \n",
      "WV                   Psychiatry                                           115  \n",
      "                     Student in an Organized Health Care Education/T...   364  \n",
      "WY                   Family Practice                                      221  \n",
      "                     Nurse Practitioner                                   215  \n",
      "                     Physician Assistant                                  165  \n",
      "\n",
      "[1117 rows x 2 columns]\n",
      "count    1117.000000\n",
      "mean        0.356406\n",
      "std         1.096913\n",
      "min         0.000000\n",
      "25%         0.024350\n",
      "50%         0.089827\n",
      "75%         0.263479\n",
      "max        13.007084\n",
      "dtype: float64\n"
     ]
    }
   ],
   "source": [
    "data6_select = data[['nppes_provider_state','specialty_description','opioid_claim_count']]\n",
    "data6_select = data6_select.dropna()\n",
    "data6 = data6_select.groupby(['nppes_provider_state','specialty_description']).agg({'opioid_claim_count':[np.mean, 'count']})\n",
    "data6 = data6[data6['opioid_claim_count']['count']>100]\n",
    "print(data6)\n",
    "data6 = data6['opioid_claim_count']['mean']/data6['opioid_claim_count']['count']\n",
    "print(data6.describe())"
   ]
  },
  {
   "cell_type": "markdown",
   "metadata": {},
   "source": [
    "For each provider for whom the information is not suppressed, figure out the average cost per day of prescriptions in both 2016 and 2017. Use this to estimate the inflation rate for daily prescription costs per provider. What is the average inflation rate across all providers?"
   ]
  },
  {
   "cell_type": "code",
   "execution_count": null,
   "metadata": {},
   "outputs": [],
   "source": [
    "data_16 = pd.read_csv('PartD_Prescriber_PUF_NPI_16.txt',sep='\\t')\n",
    "print(data.head())"
   ]
  },
  {
   "cell_type": "code",
   "execution_count": null,
   "metadata": {},
   "outputs": [],
   "source": [
    "year_17 = data[['total_drug_cost','bene_count']]\n",
    "year_16 = data_16[['total_drug_cost','bene_count']]\n",
    "total_year = pd.concat([year_17,year_16],axis=1,sort=True, keys=['2017','2016'])\n",
    "total_year = total_year.dropna()\n",
    "print(total_year)\n",
    "year_17 = total_year['2017']['total_drug_cost']/365\n",
    "year_16 = total_year['2016']['total_drug_cost']/366\n",
    "inflate = ((year_17 - year_16)/year_16)*100\n",
    "print(np.mean(inflate.values))\n",
    "print(inflate.describe())"
   ]
  },
  {
   "cell_type": "markdown",
   "metadata": {},
   "source": [
    "Consider all providers with a defined specialty in both years. Find the fraction of providers who left each specialty between 2016 and 2017. What is the largest such fraction, when considering specialties with at least 1000 proviers in 2016? Note that some specialties have a fraction of 1 due to specialty name changes between 2016 and 2017; disregard these specialties in calculating your answer."
   ]
  },
  {
   "cell_type": "code",
   "execution_count": null,
   "metadata": {},
   "outputs": [],
   "source": [
    "count_17 = data['specialty_description'].replace(['Allergy/ Immunology','Anesthesiologist Assistants','Audiologist (billing independently)','Behavioral Analyst','Cardiovascular Disease (Cardiology)','Certified Registered Nurse Anesthetist (CRNA)','Clinical Cardiatric Electrophysiology','Hospital (Dmercs Only)','Hospitalist','Midwife, Lay','Obstetrics & Gynecology','Occupational Therapist in Private Practice','Occupational Therapy Assistant','Oral Surgery (Dentist only)','Pharmacy','Physical Therapist in Private Practice','Prosthetic/Orthotic Supplier','Psychologist (billing independently)','Psychologist, Clinical','Public Health Welfare Agency','Radiation Therapy','Registered Dietician/Nutrition Professional','SNF (Dmercs Only)','Spec/Tech, Cardiovascular','Spec/Tech, Health Info','Spec/Tech, Pathology','Voluntary Health or Charitable Agencies'],['Allergy/Immunology','Anesthesiology Assistant','Audiologist','Behavior Analyst','Cardiology','CRNA','Clinical Cardiac Electrophysiology','Hospital','Hospital','Midwife','Obstetrics/Gynecology','Occupational therapist','Occupational therapist','Oral Surgery (Dentists only)','Pharmacist','Physical Therapist','Prosthetist','Psychologist','Psychologist','Public Health or Welfare Agency','Radiation Therapy Center','Registered Dietitian or Nutrition Professional','Skilled Nursing Facility','Specialist/Technologist Cardiovascular','Specialist/Technologist, Other','Specialist/Technologist, Pathology','Voluntary Health or Charitable Agency'])\n",
    "count_16 = data_16['specialty_description'].replace(['Allergy/ Immunology','Anesthesiologist Assistants','Audiologist (billing independently)','Behavioral Analyst','Cardiovascular Disease (Cardiology)','Certified Registered Nurse Anesthetist (CRNA)','Clinical Cardiatric Electrophysiology','Hospital (Dmercs Only)','Hospitalist','Midwife, Lay','Obstetrics & Gynecology','Occupational Therapist in Private Practice','Occupational Therapy Assistant','Oral Surgery (Dentist only)','Pharmacy','Physical Therapist in Private Practice','Prosthetic/Orthotic Supplier','Psychologist (billing independently)','Psychologist, Clinical','Public Health Welfare Agency','Radiation Therapy','Registered Dietician/Nutrition Professional','SNF (Dmercs Only)','Spec/Tech, Cardiovascular','Spec/Tech, Health Info','Spec/Tech, Pathology','Voluntary Health or Charitable Agencies'],['Allergy/Immunology','Anesthesiology Assistant','Audiologist','Behavior Analyst','Cardiology','CRNA','Clinical Cardiac Electrophysiology','Hospital','Hospital','Midwife','Obstetrics/Gynecology','Occupational therapist','Occupational therapist','Oral Surgery (Dentists only)','Pharmacist','Physical Therapist','Prosthetist','Psychologist','Psychologist','Public Health or Welfare Agency','Radiation Therapy Center','Registered Dietitian or Nutrition Professional','Skilled Nursing Facility','Specialist/Technologist Cardiovascular','Specialist/Technologist, Other','Specialist/Technologist, Pathology','Voluntary Health or Charitable Agency'])\n",
    "count_17 = count_17.value_counts()\n",
    "count_16 = count_16.value_counts()\n",
    "count_year = pd.concat([count_17,count_16],axis=1,sort=True, keys=['2017','2016'])\n",
    "count_year = count_year.replace(np.nan,0)\n",
    "count_year = count_year[count_year['2016']>1000]\n",
    "left = count_year['2017']-count_year['2016']\n",
    "final_data = left[left<0]/count_year['2016']\n",
    "print(final_data.describe())\n"
   ]
  },
  {
   "cell_type": "code",
   "execution_count": null,
   "metadata": {},
   "outputs": [],
   "source": []
  }
 ],
 "metadata": {
  "kernelspec": {
   "display_name": "Python 3",
   "language": "python",
   "name": "python3"
  },
  "language_info": {
   "codemirror_mode": {
    "name": "ipython",
    "version": 3
   },
   "file_extension": ".py",
   "mimetype": "text/x-python",
   "name": "python",
   "nbconvert_exporter": "python",
   "pygments_lexer": "ipython3",
   "version": "3.7.4"
  }
 },
 "nbformat": 4,
 "nbformat_minor": 4
}
